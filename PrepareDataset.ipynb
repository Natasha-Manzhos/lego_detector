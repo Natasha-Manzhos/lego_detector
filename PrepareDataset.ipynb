{
 "cells": [
  {
   "cell_type": "code",
   "execution_count": null,
   "metadata": {},
   "outputs": [],
   "source": [
    "import matplotlib.pyplot as plt\n",
    "import os\n",
    "import matplotlib.image as mpimg\n",
    "import numpy as np\n",
    "import cv2\n",
    "%matplotlib inline \n",
    "\n",
    "data_root = \"demo_data\"\n",
    "image_file = \"20171112_101838.jpg\"\n",
    "\n",
    "\n",
    "def show_image(img_path, figsize=(14, 12)):\n",
    "    rgb = cv2.imread(img_path)\n",
    "    if rgb is None:\n",
    "        raise Exception(\"Failed to read image: \" + img_path)\n",
    "    fig = plt.figure(figsize=figsize)\n",
    "    plt.imshow(cv2.cvtColor(rgb, cv2.COLOR_BGR2RGB))\n",
    "    \n",
    "raw_image_file = os.path.join(data_root, \"raw\", image_file)\n",
    "show_image(raw_image_file)\n"
   ]
  },
  {
   "cell_type": "code",
   "execution_count": null,
   "metadata": {},
   "outputs": [],
   "source": [
    "from PrepareDataset import downsample_images\n",
    "from multiprocessing import Pool\n",
    "from FilesAndDirs import get_downsampled_img_name\n",
    "\n",
    "\n",
    "pool = Pool()\n",
    "\n",
    "downsample_images(pool, data_root, [raw_image_file])\n",
    "\n",
    "downsampled_image = get_downsampled_img_name(raw_image_file)\n",
    "show_image(downsampled_image)\n"
   ]
  },
  {
   "cell_type": "code",
   "execution_count": null,
   "metadata": {},
   "outputs": [],
   "source": [
    "from PrepareDataset import generate_default_masks\n",
    "from FilesAndDirs import get_mask_file_name\n",
    "\n",
    "generate_default_masks(pool, data_root, [raw_image_file], True)\n",
    "\n",
    "mask_file = get_mask_file_name(raw_image_file)\n",
    "edge_file = os.path.splitext(mask_file)[0] + \"_edge.png\"\n",
    "distance_file = os.path.splitext(mask_file)[0] + \"_dist.png\"\n",
    "rough_mask_file = os.path.splitext(mask_file)[0] + \"_bgmask.png\"\n",
    "\n",
    "show_image(edge_file)\n",
    "show_image(distance_file)\n",
    "show_image(rough_mask_file)\n",
    "show_image(mask_file)"
   ]
  },
  {
   "cell_type": "code",
   "execution_count": null,
   "metadata": {},
   "outputs": [],
   "source": [
    "from PrepareDataset import segment_images\n",
    "from FilesAndDirs import get_seg_file_name\n",
    "\n",
    "segment_images(pool, data_root, [raw_image_file])\n",
    "\n",
    "segmentation_file = get_seg_file_name(raw_image_file)\n",
    "show_image(segmentation_file)"
   ]
  },
  {
   "cell_type": "code",
   "execution_count": null,
   "metadata": {},
   "outputs": [],
   "source": [
    "from PrepareDataset import split_parts\n",
    "from FilesAndDirs import get_parts_dir_name\n",
    "\n",
    "split_parts(pool, data_root, [raw_image_file])\n",
    "\n",
    "parts_dir = get_parts_dir_name(raw_image_file)\n",
    "parts_files = os.listdir(parts_dir)\n",
    "for part_file in parts_files:\n",
    "    path = os.path.join(parts_dir, part_file)\n",
    "    show_image(path, figsize=(6, 4))\n"
   ]
  },
  {
   "cell_type": "code",
   "execution_count": null,
   "metadata": {
    "collapsed": true
   },
   "outputs": [],
   "source": []
  }
 ],
 "metadata": {
  "anaconda-cloud": {},
  "kernelspec": {
   "display_name": "Python 3",
   "language": "python",
   "name": "python3"
  },
  "language_info": {
   "codemirror_mode": {
    "name": "ipython",
    "version": 3
   },
   "file_extension": ".py",
   "mimetype": "text/x-python",
   "name": "python",
   "nbconvert_exporter": "python",
   "pygments_lexer": "ipython3",
   "version": "3.6.3"
  }
 },
 "nbformat": 4,
 "nbformat_minor": 1
}
