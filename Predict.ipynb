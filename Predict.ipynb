{
 "cells": [
  {
   "cell_type": "code",
   "execution_count": null,
   "metadata": {},
   "outputs": [],
   "source": [
    "import numpy as np\n",
    "from Predict import predict_with_tta, load_model\n",
    "\n",
    "DATA_ROOT = \"demo_data\"\n",
    "\n",
    "model, labels_map, int_to_labels = load_model(DATA_ROOT, \"C\", \"weights-860-0.917.hdf5\")\n",
    "model.summary()"
   ]
  },
  {
   "cell_type": "code",
   "execution_count": null,
   "metadata": {},
   "outputs": [],
   "source": [
    "import os\n",
    "\n",
    "images = []\n",
    "img_dir = os.path.join(DATA_ROOT, \"test\", \"brick_1_1\")\n",
    "files = os.listdir(img_dir)\n",
    "images = [os.path.join(img_dir, f) for f in files]\n",
    "\n",
    "probs = predict_with_tta(3, False, images, model)[1]\n",
    "\n",
    "sorted_indexes = np.argsort(probs)\n",
    "for i in range(5):\n",
    "    label_index = sorted_indexes[-i-1]\n",
    "    print(\"#%d: %1.2f%%, %s\" % (i+1, 100.*probs[label_index], int_to_labels[label_index]))\n"
   ]
  },
  {
   "cell_type": "code",
   "execution_count": null,
   "metadata": {},
   "outputs": [],
   "source": [
    "from Predict import measure_accuracy\n",
    "\n",
    "n, cnf_matrix = measure_accuracy(\"demo_data/test\", 0, 0, model, labels_map, int_to_labels, 'mean')\n"
   ]
  },
  {
   "cell_type": "code",
   "execution_count": null,
   "metadata": {
    "collapsed": true
   },
   "outputs": [],
   "source": []
  }
 ],
 "metadata": {
  "kernelspec": {
   "display_name": "Python 3",
   "language": "python",
   "name": "python3"
  },
  "language_info": {
   "codemirror_mode": {
    "name": "ipython",
    "version": 3
   },
   "file_extension": ".py",
   "mimetype": "text/x-python",
   "name": "python",
   "nbconvert_exporter": "python",
   "pygments_lexer": "ipython3",
   "version": "3.6.3"
  }
 },
 "nbformat": 4,
 "nbformat_minor": 1
}
